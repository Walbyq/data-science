{
  "cells": [
    {
      "cell_type": "markdown",
      "metadata": {
        "id": "view-in-github",
        "colab_type": "text"
      },
      "source": [
        "<a href=\"https://colab.research.google.com/github/Walbyq/data-science/blob/main/kc-house/kc_house.ipynb\" target=\"_parent\"><img src=\"https://colab.research.google.com/assets/colab-badge.svg\" alt=\"Open In Colab\"/></a>"
      ]
    },
    {
      "cell_type": "markdown",
      "source": [
        "# Импорт библиотек"
      ],
      "metadata": {
        "id": "tvkcMYoBHZmw"
      }
    },
    {
      "cell_type": "code",
      "source": [
        "import pandas as pd\n",
        "import seaborn as sns\n",
        "import matplotlib.pyplot as plt\n",
        "import plotly.express as px\n",
        "from sklearn.preprocessing import StandardScaler, PolynomialFeatures\n",
        "from sklearn.model_selection import train_test_split\n",
        "from sklearn.linear_model import LinearRegression, Lasso, Ridge\n",
        "from sklearn.pipeline import make_pipeline\n",
        "from sklearn.metrics import r2_score, mean_absolute_error, mean_squared_error\n",
        "import warnings"
      ],
      "metadata": {
        "id": "H0uY1hK9HZXv"
      },
      "execution_count": 1,
      "outputs": []
    },
    {
      "cell_type": "markdown",
      "metadata": {
        "id": "SXH2ZqFyX5Vg"
      },
      "source": [
        "# Подготовка данных"
      ]
    },
    {
      "cell_type": "markdown",
      "source": [
        "Подключаемся к Google Drive:"
      ],
      "metadata": {
        "id": "fMs9Nar0Rd_Q"
      }
    },
    {
      "cell_type": "code",
      "execution_count": null,
      "metadata": {
        "id": "3Xurfv1zVdSw"
      },
      "outputs": [],
      "source": [
        "from google.colab import drive\n",
        "drive.mount('/content/drive')"
      ]
    },
    {
      "cell_type": "markdown",
      "source": [
        "Получаем датафрейм:"
      ],
      "metadata": {
        "id": "0q8F1pLARhje"
      }
    },
    {
      "cell_type": "code",
      "execution_count": null,
      "metadata": {
        "id": "PrGHZC3aXrbR"
      },
      "outputs": [],
      "source": [
        "csv_file_path = '/content/drive/MyDrive/ML/datasets/kc_house_data.csv'\n",
        "df = pd.read_csv(csv_file_path)"
      ]
    },
    {
      "cell_type": "markdown",
      "source": [
        "Ссылка на набор данных: https://www.kaggle.com/datasets/harlfoxem/housesalesprediction"
      ],
      "metadata": {
        "id": "bGwyjujOy2BE"
      }
    },
    {
      "cell_type": "markdown",
      "source": [
        "Удаляем аномальное значение о доме с 33 спальными комнатами:"
      ],
      "metadata": {
        "id": "ikGBNyphXl0c"
      }
    },
    {
      "cell_type": "code",
      "source": [
        "df = df[df['bedrooms'] != 33]"
      ],
      "metadata": {
        "id": "QV-sH9pLEiDM"
      },
      "execution_count": null,
      "outputs": []
    },
    {
      "cell_type": "markdown",
      "metadata": {
        "id": "NWYds5zFbN7b"
      },
      "source": [
        "# Анализ данных"
      ]
    },
    {
      "cell_type": "markdown",
      "source": [
        "## Основная информация"
      ],
      "metadata": {
        "id": "xGQFrk8VmoJa"
      }
    },
    {
      "cell_type": "markdown",
      "source": [
        "Столбцы датафрейма:\n",
        "\n",
        "*   date - дата продажи;\n",
        "*   price\t- стоимость продажи;\n",
        "*   bedrooms\t- количество спальных комнат;\n",
        "*   bathrooms\t- количество ванных комнат;\n",
        "*   sqft_living\t- жилая площадь (в квадратных футах);\n",
        "*   sqft_lot\t- площадь участка (в квадратных фунтах);\n",
        "*   floors\t- количество этажей;\n",
        "*   waterfront\t- расположение на набережной (0 - нет выхода к воде, 1 - есть);\n",
        "*   view\t- качество обзора (0-4);\n",
        "*   condition\t- состояние дома (1-5);\n",
        "*   grade\t- качество строительства: качество материалов и выполнения работ (1-13);\n",
        "*   sqft_above\t- площадь над землей (в квадратных футах);\n",
        "*   sqft_basement\t- площадь подвала (в квадратных футах);\n",
        "*   yr_built\t- дата постройки;\n",
        "*   yr_renovated\t- дата последнего капитального ремонта (0 - никогда не было);\n",
        "*   zipcode\t- почтовый индекс;\n",
        "*   lat\t- широта;\n",
        "*   long\t- долгота;\n",
        "*   sqft_living15\t- средний размер жилой площади в ближайших 15 домах (в квадратных футах);\n",
        "*   sqft_lot15 - средний размер площади участка в ближайших 15 домах (в квадратных фунтах)."
      ],
      "metadata": {
        "id": "RcyFrQeR0mE6"
      }
    },
    {
      "cell_type": "markdown",
      "source": [
        "Выводим размерность:"
      ],
      "metadata": {
        "id": "AkL17h8sR7-N"
      }
    },
    {
      "cell_type": "code",
      "execution_count": null,
      "metadata": {
        "id": "aunQRr2CeiSL"
      },
      "outputs": [],
      "source": [
        "df.shape"
      ]
    },
    {
      "cell_type": "markdown",
      "source": [
        "Выводим первые 5 значений:"
      ],
      "metadata": {
        "id": "bX9geH0OSASy"
      }
    },
    {
      "cell_type": "code",
      "execution_count": null,
      "metadata": {
        "id": "L1PSKKsjYehv"
      },
      "outputs": [],
      "source": [
        "df.head()"
      ]
    },
    {
      "cell_type": "markdown",
      "source": [
        "Выводим основные статистические характеристики данных по каждому числовому признаку:"
      ],
      "metadata": {
        "id": "ZSofOZdmSCl6"
      }
    },
    {
      "cell_type": "code",
      "execution_count": null,
      "metadata": {
        "id": "r8CChqX3euAy"
      },
      "outputs": [],
      "source": [
        "df.describe()"
      ]
    },
    {
      "cell_type": "markdown",
      "source": [
        "Выводим основную информацию:"
      ],
      "metadata": {
        "id": "x2YIgl1kSGNc"
      }
    },
    {
      "cell_type": "code",
      "execution_count": null,
      "metadata": {
        "id": "KS8ReC2KfRy0"
      },
      "outputs": [],
      "source": [
        "df.info()"
      ]
    },
    {
      "cell_type": "markdown",
      "source": [
        "Выводим количество пустых значений в каждом столбце:"
      ],
      "metadata": {
        "id": "2QHjl2X9SH7D"
      }
    },
    {
      "cell_type": "code",
      "execution_count": null,
      "metadata": {
        "id": "-W-zyrzkzpZs"
      },
      "outputs": [],
      "source": [
        "df.isnull().sum()"
      ]
    },
    {
      "cell_type": "markdown",
      "source": [
        "## Парные диаграммы\n",
        "\n",
        "Визуализируют взаимосвязи между парами переменных в наборе данных с помощью диаграмм рассеяния и гистограмм."
      ],
      "metadata": {
        "id": "f02Fy2YLSKUF"
      }
    },
    {
      "cell_type": "code",
      "execution_count": null,
      "metadata": {
        "id": "3yoPmqd23qfW"
      },
      "outputs": [],
      "source": [
        "sns.pairplot(df, size=1.3)"
      ]
    },
    {
      "cell_type": "markdown",
      "source": [
        "## Тепловая карта по матрице корреляции\n",
        "\n",
        "Корреляция указывает на степень взаимосвязи между двумя переменными. Она помогает понять, как одна переменная изменяется по отношению к другой. Значение варьируется от -1 до 1, где:\n",
        "\n",
        "*   1 указывает на полную положительную корреляцию;\n",
        "*   -1 указывает на полную отрицательную корреляцию;\n",
        "*   0 указывает на отсутствие корреляции."
      ],
      "metadata": {
        "id": "AXeE-IY_SMU5"
      }
    },
    {
      "cell_type": "code",
      "execution_count": null,
      "metadata": {
        "id": "wasRr0t7U8np"
      },
      "outputs": [],
      "source": [
        "plt.figure(figsize=(10, 8))\n",
        "sns.heatmap(df.corr(numeric_only=True), cmap='coolwarm')"
      ]
    },
    {
      "cell_type": "markdown",
      "source": [
        "## Гистограммы распределения и диаграммы размаха\n",
        "\n",
        "Левая колонка графиков показывает гистограммы распределения для каждой характеристики. Они отображают, как часто встречаются различные значения каждой характеристики в наборе данных.\n",
        "\n",
        "Правая колонка графиков показывает диаграммы размаха, которые визуализируют связь между каждой характеристикой и ценой недвижимости."
      ],
      "metadata": {
        "id": "wen-gVgSSPBP"
      }
    },
    {
      "cell_type": "code",
      "source": [
        "features = ['bedrooms', 'bathrooms', 'sqft_living', 'sqft_lot', 'floors',\n",
        "        'waterfront', 'view', 'condition', 'grade', 'sqft_above',\n",
        "        'sqft_basement', 'yr_built', 'yr_renovated', 'lat', 'long',\n",
        "        'sqft_living15', 'sqft_lot15']\n",
        "\n",
        "fig, axes = plt.subplots(len(features), 2, figsize=(15, 80))\n",
        "\n",
        "for i, feature in enumerate(features):\n",
        "    # Создаем подграфик для каждой пары\n",
        "    subfig = fig.add_subplot(len(features), 1, i+1)\n",
        "    subfig.set_title(f'Параметр {feature}', fontsize=16, y=1.15)\n",
        "    subfig.axis('off')  # Отключаем оси для подграфика\n",
        "\n",
        "    # Гистограмма\n",
        "    sns.histplot(df[feature], ax=axes[i, 0])\n",
        "\n",
        "    # Диаграмма размаха\n",
        "    if feature in ['sqft_living', 'sqft_lot', 'sqft_above', 'sqft_basement',\n",
        "               'yr_built', 'lat', 'long', 'sqft_living15', 'sqft_lot15']:\n",
        "        # Площадь делим на промежутки для наглядности\n",
        "        df['group'] = pd.cut(df[feature], bins=20)\n",
        "        sns.boxplot(df, x='group', y='price', ax=axes[i, 1])\n",
        "\n",
        "    elif feature == 'yr_renovated':\n",
        "        # Создаем бинарный признак для renovated\n",
        "        df['renovated_binary'] = (df['yr_renovated'] > 0).astype(int)\n",
        "        sns.boxplot(df, x='renovated_binary', y='price', ax=axes[i, 1])\n",
        "\n",
        "    else:\n",
        "        sns.boxplot(df, x=feature, y='price', ax=axes[i, 1])\n",
        "\n",
        "    # Ограничение числа подписей для диаграммы размаха\n",
        "    x_ticks = axes[i, 1].get_xticks()\n",
        "    if len(x_ticks) >= 20: axes[i, 1].set_xticks(x_ticks[::4])\n",
        "\n",
        "plt.tight_layout()\n",
        "plt.show()"
      ],
      "metadata": {
        "id": "x0lNDr8ZS5yl"
      },
      "execution_count": null,
      "outputs": []
    },
    {
      "cell_type": "markdown",
      "source": [
        "## Точечный 3D график распределения признаков\n",
        "\n",
        "Показывает распределение цен на недвижимость в зависимости от географического расположения домов."
      ],
      "metadata": {
        "id": "MilAPMh0T3fd"
      }
    },
    {
      "cell_type": "code",
      "source": [
        "fig = px.scatter_3d(df, x='lat', y='long', z='price', color='price',\n",
        "                    title='3D распределение цен в зависимости от расположения дома')\n",
        "fig.show()"
      ],
      "metadata": {
        "id": "MdHehA31hUZf"
      },
      "execution_count": null,
      "outputs": []
    },
    {
      "cell_type": "markdown",
      "source": [
        "## Вывод\n",
        "\n",
        "На основе проведенного анализа можно сделать следующие выводы:\n",
        "\n",
        "*   Площадь жилых помещений (sqft_living) имеет сильную положительную корреляцию с ценой;\n",
        "*   Качество строительства (grade) также значительно влияет на стоимость дома;\n",
        "*   Количество спален и ванных комнат в целом положительно коррелирует с ценой, но эта связь не линейна;\n",
        "*   Расположение дома (lat, long) играет важную роль в формировании цены;\n",
        "*   Дома с видом на воду (waterfront) обычно стоят дороже;\n",
        "*   Более новые дома и недавно отремонтированные, как правило, имеют более высокую стоимость."
      ],
      "metadata": {
        "id": "6UIB9tvnwlMI"
      }
    },
    {
      "cell_type": "markdown",
      "source": [
        "# Предобработка данных\n",
        "\n",
        "Объединим значения по периодам в признаках даты постройки и даты последнего капитального ремонта:"
      ],
      "metadata": {
        "id": "tdseO2e2wkrj"
      }
    },
    {
      "cell_type": "code",
      "source": [
        "def get_period(year):\n",
        "  if year < 1950:\n",
        "      return 'До 1950'\n",
        "  elif 1950 <= year < 1980:\n",
        "      return '1950-1979'\n",
        "  elif 1980 <= year < 2000:\n",
        "      return '1980-1999'\n",
        "  else:\n",
        "      return 'После 2000'\n",
        "\n",
        "df['build_period'] = df['yr_built'].apply(get_period)\n",
        "df['renovated_period'] = df['yr_renovated'].apply(lambda x: get_period(x) if x != 0 else 'Не ремонтировался')\n",
        "\n",
        "# Нормализация числовых данных\n",
        "numeric_features = ['sqft_living', 'sqft_lot', 'sqft_above', 'sqft_basement', 'lat', 'long']\n",
        "scaler = StandardScaler()\n",
        "df[numeric_features] = scaler.fit_transform(df[numeric_features])\n",
        "\n",
        "# Присваиваем переменные с признаками и целевую переменную\n",
        "X, y = df[features], df['price']\n",
        "\n",
        "# Разделяем данные на обучающую и тестовую выборки\n",
        "X_train, X_test, y_train, y_test = train_test_split(X, y, test_size=0.2, random_state=42)\n",
        "\n",
        "# Масштабируем признаки\n",
        "scaler = StandardScaler()\n",
        "X_train_scaled = scaler.fit_transform(X_train)\n",
        "X_test_scaled = scaler.transform(X_test)"
      ],
      "metadata": {
        "id": "MCgChcchlXJm"
      },
      "execution_count": null,
      "outputs": []
    },
    {
      "cell_type": "markdown",
      "source": [
        "# Обучение"
      ],
      "metadata": {
        "id": "TQnsaIeAb4xL"
      }
    },
    {
      "cell_type": "markdown",
      "source": [
        "Обучение моделей:"
      ],
      "metadata": {
        "id": "imHtFjGdW5zn"
      }
    },
    {
      "cell_type": "code",
      "source": [
        "# Игнорирование предупреждений\n",
        "warnings.filterwarnings(\"ignore\")\n",
        "\n",
        "# Словарь с моделями\n",
        "models = {\n",
        "    \"Linear Regression\": LinearRegression(),\n",
        "    \"Lasso Regression\": Lasso(alpha=1.0),\n",
        "    \"Ridge Regression\": Ridge(alpha=1.0),\n",
        "    \"Polynomial Regression\": make_pipeline(PolynomialFeatures(degree=2), LinearRegression())\n",
        "}\n",
        "\n",
        "results = []\n",
        "\n",
        "for name, model in models.items():\n",
        "    # Обучение модели\n",
        "    model.fit(X_train, y_train)\n",
        "\n",
        "    # Предсказание на тестовой выборке\n",
        "    y_pred = model.predict(X_test)\n",
        "\n",
        "    # Расчет метрик\n",
        "    r2 = r2_score(y_test, y_pred)\n",
        "    mae = mean_absolute_error(y_test, y_pred)\n",
        "    mse = mean_squared_error(y_test, y_pred)\n",
        "\n",
        "    # Сохранение результатов\n",
        "    results.append({\n",
        "        \"Model\": name,\n",
        "        \"R-squared\": r2,\n",
        "        \"MAE\": mae,\n",
        "        \"MSE\": mse\n",
        "    })"
      ],
      "metadata": {
        "id": "KXDeg1TxJJv-"
      },
      "execution_count": null,
      "outputs": []
    },
    {
      "cell_type": "markdown",
      "source": [
        "Вывод результатов обучения:"
      ],
      "metadata": {
        "id": "0TCPeqIVqFzb"
      }
    },
    {
      "cell_type": "code",
      "source": [
        "# Вывод точности обучения\n",
        "print(\"Точность обучения моделей моделей:\")\n",
        "print(pd.DataFrame(results))"
      ],
      "metadata": {
        "id": "H7uCbrdEqFRw"
      },
      "execution_count": null,
      "outputs": []
    }
  ],
  "metadata": {
    "colab": {
      "provenance": [],
      "toc_visible": true,
      "mount_file_id": "1MkYarwYwZzGmGEIqqyt8eMs0aLfkQGC8",
      "authorship_tag": "ABX9TyOd9RmL/E+thG10dSHMOlcX",
      "include_colab_link": true
    },
    "kernelspec": {
      "display_name": "Python 3",
      "name": "python3"
    },
    "language_info": {
      "name": "python"
    }
  },
  "nbformat": 4,
  "nbformat_minor": 0
}